{
 "cells": [
  {
   "cell_type": "markdown",
   "metadata": {
    "hide": true
   },
   "source": [
    "## Probability, Modeling and Simulation"
   ]
  },
  {
   "cell_type": "markdown",
   "metadata": {},
   "source": [
    "\n",
    "\n",
    "We will do:\n",
    "\n",
    "* numpy\n",
    "* Describe a very simple model of coin tosses\n",
    "* Coin tosses model simulation.\n",
    "* The notion of a generative model\n",
    "* Election model. Simulation. \n",
    "* Evaluation of the election model.\n"
   ]
  },
  {
   "cell_type": "code",
   "execution_count": 1,
   "metadata": {
    "hide": true
   },
   "outputs": [
    {
     "name": "stderr",
     "output_type": "stream",
     "text": [
      "/srv/conda/envs/notebook/lib/python3.7/site-packages/matplotlib/__init__.py:855: MatplotlibDeprecationWarning: \n",
      "examples.directory is deprecated; in the future, examples will be found relative to the 'datapath' directory.\n",
      "  \"found relative to the 'datapath' directory.\".format(key))\n",
      "/srv/conda/envs/notebook/lib/python3.7/site-packages/matplotlib/__init__.py:846: MatplotlibDeprecationWarning: \n",
      "The text.latex.unicode rcparam was deprecated in Matplotlib 2.2 and will be removed in 3.1.\n",
      "  \"2.2\", name=key, obj_type=\"rcparam\", addendum=addendum)\n",
      "/srv/conda/envs/notebook/lib/python3.7/site-packages/seaborn/apionly.py:9: UserWarning: As seaborn no longer sets a default style on import, the seaborn.apionly module is deprecated. It will be removed in a future version.\n",
      "  warnings.warn(msg, UserWarning)\n"
     ]
    }
   ],
   "source": [
    "%matplotlib inline\n",
    "import numpy as np\n",
    "import scipy as sp\n",
    "import matplotlib as mpl\n",
    "import matplotlib.cm as cm\n",
    "import matplotlib.pyplot as plt\n",
    "import pandas as pd\n",
    "import seaborn.apionly as sns"
   ]
  },
  {
   "cell_type": "markdown",
   "metadata": {},
   "source": [
    "## Hello Numpy\n",
    "\n",
    "The Numpy array processing library is the basis of nearly all numerical computing in Python. Here's a 30 second crash course. "
   ]
  },
  {
   "cell_type": "code",
   "execution_count": 2,
   "metadata": {},
   "outputs": [
    {
     "name": "stdout",
     "output_type": "stream",
     "text": [
      "Make a 3 row x 4 column array of random numbers\n",
      "[[0.83945729 0.7895669  0.35292179 0.63501549]\n",
      " [0.2227527  0.3509996  0.53694443 0.15961586]\n",
      " [0.71763328 0.36482583 0.9433988  0.05852612]] \n",
      "\n",
      "-----------------\n",
      "Get the element at row 1, column 2\n",
      "0.5369444259254313\n",
      "Get the first row\n",
      "[0.83945729 0.7895669  0.35292179 0.63501549]\n",
      "Last 2 items in the first row\n",
      "[0.35292179 0.63501549]\n",
      "Get every 2nd item in the first row\n",
      "[0.83945729 0.35292179]\n"
     ]
    }
   ],
   "source": [
    "print(\"Make a 3 row x 4 column array of random numbers\")\n",
    "x = np.random.random((3, 4))\n",
    "print(x,\"\\n\")\n",
    "print(\"-----------------\")\n",
    "print(\"Get the element at row 1, column 2\")\n",
    "print(x[1, 2])\n",
    "\n",
    "# The colon syntax is called \"slicing\" the array. \n",
    "print(\"Get the first row\")\n",
    "print(x[0, :])\n",
    "\n",
    "print(\"Last 2 items in the first row\")\n",
    "print(x[0, -2:])\n",
    "\n",
    "print(\"Get every 2nd item in the first row\")\n",
    "print(x[0, ::2])"
   ]
  },
  {
   "cell_type": "code",
   "execution_count": 3,
   "metadata": {},
   "outputs": [
    {
     "name": "stdout",
     "output_type": "stream",
     "text": [
      "Max is   0.9433988048311206\n",
      "Min is   0.05852611780801498\n",
      "Mean is  0.4976381749794485\n"
     ]
    }
   ],
   "source": [
    "print(\"Max is  \", x.max())\n",
    "print(\"Min is  \", x.min())\n",
    "print(\"Mean is \", x.mean())"
   ]
  },
  {
   "cell_type": "code",
   "execution_count": 4,
   "metadata": {},
   "outputs": [
    {
     "data": {
      "text/plain": [
       "array([[0.83945729, 0.7895669 , 0.35292179, 0.63501549],\n",
       "       [0.2227527 , 0.3509996 , 0.53694443, 0.15961586],\n",
       "       [0.71763328, 0.36482583, 0.9433988 , 0.05852612]])"
      ]
     },
     "execution_count": 4,
     "metadata": {},
     "output_type": "execute_result"
    }
   ],
   "source": [
    "x"
   ]
  },
  {
   "cell_type": "code",
   "execution_count": 5,
   "metadata": {},
   "outputs": [
    {
     "name": "stdout",
     "output_type": "stream",
     "text": [
      "[0.83945729 0.53694443 0.9433988 ]\n"
     ]
    }
   ],
   "source": [
    "print(x.max(axis=1))"
   ]
  },
  {
   "cell_type": "code",
   "execution_count": 6,
   "metadata": {},
   "outputs": [
    {
     "name": "stdout",
     "output_type": "stream",
     "text": [
      "[0.83945729 0.7895669  0.9433988  0.63501549]\n"
     ]
    }
   ],
   "source": [
    "print(x.max(axis=0))"
   ]
  },
  {
   "cell_type": "markdown",
   "metadata": {},
   "source": [
    "There are many ways to construct these arrays"
   ]
  },
  {
   "cell_type": "code",
   "execution_count": 7,
   "metadata": {},
   "outputs": [
    {
     "data": {
      "text/plain": [
       "((5,), dtype('int64'))"
      ]
     },
     "execution_count": 7,
     "metadata": {},
     "output_type": "execute_result"
    }
   ],
   "source": [
    "thearray = np.array([1, 2, 3, 4, 5])\n",
    "thearray.shape, thearray.dtype"
   ]
  },
  {
   "cell_type": "code",
   "execution_count": 8,
   "metadata": {},
   "outputs": [
    {
     "data": {
      "text/plain": [
       "array([1, 1, 1, 1, 1, 1, 1, 1, 1, 1])"
      ]
     },
     "execution_count": 8,
     "metadata": {},
     "output_type": "execute_result"
    }
   ],
   "source": [
    "ones = np.ones(10, dtype=\"int64\")\n",
    "ones"
   ]
  },
  {
   "cell_type": "code",
   "execution_count": 9,
   "metadata": {},
   "outputs": [
    {
     "data": {
      "text/plain": [
       "array([1., 1., 1., 1., 1., 1., 1., 1., 1., 1.])"
      ]
     },
     "execution_count": 9,
     "metadata": {},
     "output_type": "execute_result"
    }
   ],
   "source": [
    "ones_float = np.ones(10)\n",
    "ones_float"
   ]
  },
  {
   "cell_type": "code",
   "execution_count": 10,
   "metadata": {},
   "outputs": [
    {
     "data": {
      "text/plain": [
       "array([[0., 0., 0., 0.],\n",
       "       [0., 0., 0., 0.],\n",
       "       [0., 0., 0., 0.]])"
      ]
     },
     "execution_count": 10,
     "metadata": {},
     "output_type": "execute_result"
    }
   ],
   "source": [
    "np.zeros((3,4))"
   ]
  },
  {
   "cell_type": "code",
   "execution_count": 11,
   "metadata": {},
   "outputs": [
    {
     "data": {
      "text/plain": [
       "array([[0., 0., 0., 0.],\n",
       "       [0., 0., 0., 0.],\n",
       "       [0., 0., 0., 0.]])"
      ]
     },
     "execution_count": 11,
     "metadata": {},
     "output_type": "execute_result"
    }
   ],
   "source": [
    "np.empty((3,4))"
   ]
  },
  {
   "cell_type": "markdown",
   "metadata": {},
   "source": [
    "Operations on numpy arrays are very different from those on regular python lists."
   ]
  },
  {
   "cell_type": "code",
   "execution_count": 12,
   "metadata": {},
   "outputs": [
    {
     "name": "stdout",
     "output_type": "stream",
     "text": [
      "Add 1 to every element\n"
     ]
    },
    {
     "data": {
      "text/plain": [
       "(array([[0.83945729, 0.7895669 , 0.35292179, 0.63501549],\n",
       "        [0.2227527 , 0.3509996 , 0.53694443, 0.15961586],\n",
       "        [0.71763328, 0.36482583, 0.9433988 , 0.05852612]]),\n",
       " array([[1.83945729, 1.7895669 , 1.35292179, 1.63501549],\n",
       "        [1.2227527 , 1.3509996 , 1.53694443, 1.15961586],\n",
       "        [1.71763328, 1.36482583, 1.9433988 , 1.05852612]]))"
      ]
     },
     "execution_count": 12,
     "metadata": {},
     "output_type": "execute_result"
    }
   ],
   "source": [
    "print(\"Add 1 to every element\")\n",
    "y = x + 1\n",
    "x, y"
   ]
  },
  {
   "cell_type": "markdown",
   "metadata": {},
   "source": [
    "This notion of adding 1 to every element, by virtually creating an array of 1's is called **broadcasting**"
   ]
  },
  {
   "cell_type": "code",
   "execution_count": 13,
   "metadata": {},
   "outputs": [
    {
     "data": {
      "text/plain": [
       "[1, 1, 1, 1, 1, 1.0, 1.0, 1.0, 1.0, 1.0]"
      ]
     },
     "execution_count": 13,
     "metadata": {},
     "output_type": "execute_result"
    }
   ],
   "source": [
    "int_ones_list = [1, 1, 1, 1, 1]\n",
    "float_ones_list = [1., 1., 1., 1., 1.]\n",
    "int_ones_list + float_ones_list"
   ]
  },
  {
   "cell_type": "markdown",
   "metadata": {},
   "source": [
    "This is not perhaps what you wanted....you might have wanted this"
   ]
  },
  {
   "cell_type": "code",
   "execution_count": 14,
   "metadata": {},
   "outputs": [
    {
     "data": {
      "text/plain": [
       "(array([1, 1, 1, 1, 1, 1, 1, 1, 1, 1]),\n",
       " array([1., 1., 1., 1., 1., 1., 1., 1., 1., 1.]),\n",
       " array([2., 2., 2., 2., 2., 2., 2., 2., 2., 2.]))"
      ]
     },
     "execution_count": 14,
     "metadata": {},
     "output_type": "execute_result"
    }
   ],
   "source": [
    "twos = ones + ones_float\n",
    "ones, ones_float, twos"
   ]
  },
  {
   "cell_type": "code",
   "execution_count": 15,
   "metadata": {},
   "outputs": [
    {
     "data": {
      "text/plain": [
       "array([0.9520343 , 0.32215537, 0.86440788, 0.67667211, 0.16142681,\n",
       "       0.63021656, 0.66745541, 0.13969884, 0.28731243, 0.03557386])"
      ]
     },
     "execution_count": 15,
     "metadata": {},
     "output_type": "execute_result"
    }
   ],
   "source": [
    "r = np.random.random(10)\n",
    "r"
   ]
  },
  {
   "cell_type": "code",
   "execution_count": 16,
   "metadata": {},
   "outputs": [
    {
     "data": {
      "text/plain": [
       "array([0. , 0.1, 0.2, 0.3, 0.4, 0.5, 0.6, 0.7, 0.8, 0.9])"
      ]
     },
     "execution_count": 16,
     "metadata": {},
     "output_type": "execute_result"
    }
   ],
   "source": [
    "np.arange(0.0,1.0,0.1)"
   ]
  },
  {
   "cell_type": "code",
   "execution_count": 17,
   "metadata": {},
   "outputs": [
    {
     "data": {
      "image/png": "[encoded data removed]",
      "text/plain": [
       "<Figure size 432x288 with 1 Axes>"
      ]
     },
     "metadata": {
      "needs_background": "light"
     },
     "output_type": "display_data"
    }
   ],
   "source": [
    "plt.hist(r,bins=np.arange(0.0,1.0,0.1));"
   ]
  },
  {
   "cell_type": "code",
   "execution_count": 18,
   "metadata": {},
   "outputs": [
    {
     "data": {
      "text/plain": [
       "<matplotlib.lines.Line2D at 0x7f7de11a1940>"
      ]
     },
     "execution_count": 18,
     "metadata": {},
     "output_type": "execute_result"
    },
    {
     "data": {
      "image/png": "[encoded data removed]",
      "text/plain": [
       "<Figure size 432x288 with 1 Axes>"
      ]
     },
     "metadata": {
      "needs_background": "light"
     },
     "output_type": "display_data"
    }
   ],
   "source": [
    "r2 = np.random.random(500)\n",
    "plt.hist(r,bins=np.arange(0.0,60.0,0.10));\n",
    "plt.axhline(400,0,1, color = \"r\")"
   ]
  },
  {
   "cell_type": "markdown",
   "metadata": {},
   "source": [
    "More broadcasting"
   ]
  },
  {
   "cell_type": "code",
   "execution_count": 19,
   "metadata": {},
   "outputs": [
    {
     "data": {
      "text/plain": [
       "(array([1.90406861, 0.64431074, 1.72881575, 1.35334423, 0.32285362,\n",
       "        1.26043311, 1.33491081, 0.27939769, 0.57462486, 0.07114772]),\n",
       " array([0.47601715, 0.16107768, 0.43220394, 0.33833606, 0.0807134 ,\n",
       "        0.31510828, 0.3337277 , 0.06984942, 0.14365621, 0.01778693]))"
      ]
     },
     "execution_count": 19,
     "metadata": {},
     "output_type": "execute_result"
    }
   ],
   "source": [
    "r*2, r/2"
   ]
  },
  {
   "cell_type": "code",
   "execution_count": 20,
   "metadata": {},
   "outputs": [
    {
     "data": {
      "text/plain": [
       "array([1.90406861, 0.64431074, 1.72881575, 1.35334423, 0.32285362,\n",
       "       1.26043311, 1.33491081, 0.27939769, 0.57462486, 0.07114772])"
      ]
     },
     "execution_count": 20,
     "metadata": {},
     "output_type": "execute_result"
    }
   ],
   "source": [
    "r*twos"
   ]
  },
  {
   "cell_type": "code",
   "execution_count": 21,
   "metadata": {},
   "outputs": [
    {
     "data": {
      "text/plain": [
       "9.473907128915922"
      ]
     },
     "execution_count": 21,
     "metadata": {},
     "output_type": "execute_result"
    }
   ],
   "source": [
    "np.dot(r, twos)"
   ]
  },
  {
   "cell_type": "markdown",
   "metadata": {},
   "source": [
    "We can also play with 2D arrays"
   ]
  },
  {
   "cell_type": "code",
   "execution_count": 22,
   "metadata": {},
   "outputs": [
    {
     "data": {
      "text/plain": [
       "array([[ 1,  2,  3,  4],\n",
       "       [ 5,  6,  7,  8],\n",
       "       [ 9, 10, 11, 12]])"
      ]
     },
     "execution_count": 22,
     "metadata": {},
     "output_type": "execute_result"
    }
   ],
   "source": [
    "my_array2d = np.array([ [1, 2, 3, 4], [5, 6, 7, 8], [9, 10, 11, 12] ])\n",
    "my_array2d"
   ]
  },
  {
   "cell_type": "code",
   "execution_count": 23,
   "metadata": {},
   "outputs": [
    {
     "data": {
      "text/plain": [
       "(3, 4)"
      ]
     },
     "execution_count": 23,
     "metadata": {},
     "output_type": "execute_result"
    }
   ],
   "source": [
    "my_array2d.shape"
   ]
  },
  {
   "cell_type": "code",
   "execution_count": 24,
   "metadata": {},
   "outputs": [
    {
     "data": {
      "text/plain": [
       "12"
      ]
     },
     "execution_count": 24,
     "metadata": {},
     "output_type": "execute_result"
    }
   ],
   "source": [
    "my_array2d[2, 3]"
   ]
  },
  {
   "cell_type": "markdown",
   "metadata": {},
   "source": [
    "Slicing is supported in 2D arrays.\n",
    "\n",
    "![](images/2dindex_v2.png)"
   ]
  },
  {
   "cell_type": "code",
   "execution_count": 25,
   "metadata": {},
   "outputs": [
    {
     "data": {
      "text/plain": [
       "array([[ 1.83945729,  2.7895669 ,  3.35292179,  4.63501549],\n",
       "       [ 5.2227527 ,  6.3509996 ,  7.53694443,  8.15961586],\n",
       "       [ 9.71763328, 10.36482583, 11.9433988 , 12.05852612]])"
      ]
     },
     "execution_count": 25,
     "metadata": {},
     "output_type": "execute_result"
    }
   ],
   "source": [
    "x + my_array2d"
   ]
  },
  {
   "cell_type": "code",
   "execution_count": 26,
   "metadata": {},
   "outputs": [
    {
     "data": {
      "text/plain": [
       "array([2., 2., 2.])"
      ]
     },
     "execution_count": 26,
     "metadata": {},
     "output_type": "execute_result"
    }
   ],
   "source": [
    "threetwos = 2.0*np.ones(3)\n",
    "threetwos"
   ]
  },
  {
   "cell_type": "markdown",
   "metadata": {},
   "source": [
    "To put this in 2-D array form, we can use reshape:"
   ]
  },
  {
   "cell_type": "code",
   "execution_count": 27,
   "metadata": {},
   "outputs": [
    {
     "data": {
      "text/plain": [
       "array([[2.],\n",
       "       [2.],\n",
       "       [2.]])"
      ]
     },
     "execution_count": 27,
     "metadata": {},
     "output_type": "execute_result"
    }
   ],
   "source": [
    "threetwos.reshape(-1,1)"
   ]
  },
  {
   "cell_type": "markdown",
   "metadata": {},
   "source": [
    "Now we can have some broadcasting fun"
   ]
  },
  {
   "cell_type": "code",
   "execution_count": 28,
   "metadata": {},
   "outputs": [
    {
     "name": "stdout",
     "output_type": "stream",
     "text": [
      "[[ 1  2  3  4]\n",
      " [ 5  6  7  8]\n",
      " [ 9 10 11 12]]\n"
     ]
    },
    {
     "data": {
      "text/plain": [
       "array([[ 2.,  4.,  6.,  8.],\n",
       "       [10., 12., 14., 16.],\n",
       "       [18., 20., 22., 24.]])"
      ]
     },
     "execution_count": 28,
     "metadata": {},
     "output_type": "execute_result"
    }
   ],
   "source": [
    "print(my_array2d)\n",
    "my_array2d*threetwos.reshape(-1,1)"
   ]
  },
  {
   "cell_type": "markdown",
   "metadata": {},
   "source": [
    "You can transpose arrays"
   ]
  },
  {
   "cell_type": "code",
   "execution_count": 29,
   "metadata": {},
   "outputs": [
    {
     "data": {
      "text/plain": [
       "array([[ 1,  5,  9],\n",
       "       [ 2,  6, 10],\n",
       "       [ 3,  7, 11],\n",
       "       [ 4,  8, 12]])"
      ]
     },
     "execution_count": 29,
     "metadata": {},
     "output_type": "execute_result"
    }
   ],
   "source": [
    "my_array2d.T"
   ]
  },
  {
   "cell_type": "code",
   "execution_count": 30,
   "metadata": {},
   "outputs": [
    {
     "data": {
      "text/plain": [
       "array([[ 2., 10., 18.],\n",
       "       [ 4., 12., 20.],\n",
       "       [ 6., 14., 22.],\n",
       "       [ 8., 16., 24.]])"
      ]
     },
     "execution_count": 30,
     "metadata": {},
     "output_type": "execute_result"
    }
   ],
   "source": [
    "my_array2d.T*threetwos"
   ]
  },
  {
   "cell_type": "code",
   "execution_count": 31,
   "metadata": {},
   "outputs": [
    {
     "data": {
      "text/plain": [
       "array([[ 1,  2,  3],\n",
       "       [ 4,  5,  6],\n",
       "       [ 7,  8,  9],\n",
       "       [10, 11, 12]])"
      ]
     },
     "execution_count": 31,
     "metadata": {},
     "output_type": "execute_result"
    }
   ],
   "source": [
    "my_array2d.reshape(4,3)"
   ]
  },
  {
   "cell_type": "markdown",
   "metadata": {},
   "source": [
    "Reshape is very general"
   ]
  },
  {
   "cell_type": "code",
   "execution_count": 32,
   "metadata": {},
   "outputs": [
    {
     "data": {
      "text/plain": [
       "array([[ 1,  2,  3],\n",
       "       [ 4,  5,  6],\n",
       "       [ 7,  8,  9],\n",
       "       [10, 11, 12]])"
      ]
     },
     "execution_count": 32,
     "metadata": {},
     "output_type": "execute_result"
    }
   ],
   "source": [
    "my_array2d.reshape(4,3) #whats happening here?"
   ]
  },
  {
   "cell_type": "markdown",
   "metadata": {},
   "source": [
    "### What is probability?\n",
    "\n",
    "Suppose you were to flip a coin. Then you expect not to be able to say whether the next toss would yield a heads or a tails.  You might tell a friend that the odds of getting a heads is equal to to the odds of getting a tails, and that both are $1/2$.\n",
    "\n",
    "This intuitive notion of odds is a **probability**. It comes about because of our physical **model** of the world: say that because of our faith in the U.S. Mint, we might be willing to, without having seen any tosses, say that the coin is fair. In other words, there are two choices, both of which are equally likely.\n",
    "\n",
    "#### Symmetry \n",
    "\n",
    "Consider another example. If we were tossing a 'fair' six-sided dice, we may thus equivalently say that the odds of the dice falling on any one of its sides is $1/6$. Indeed if there are $C$ different equally likely possibilities, we'd expect that the probability of any one particular outcome would be $1/C$.\n",
    "\n",
    "The examples of the coin as well as the dice illustrate the notion of probability springing from **symmetry**. Here we think of probability of of the number 4 on the dice as the ratio:\n",
    "\n",
    "$$\\frac{Number\\: of\\: cases\\: for\\: number\\: 4}{number\\: of\\: possibilities} = \\frac{1}{6},$$\n",
    " assuming equally likely possibilities.\n",
    "\n",
    "In other words, the symmetry refers to the notion that when there are multiple ways for an event to happen, and that then we have an intuitive **model** of fairness between these ways that tells us that none of these are any more likely than the other. \n",
    "\n",
    "#### Probability from a model\n",
    "\n",
    "But now think of an event like an election, say a presidential election. You cant exactly run multiple trials of the election: its a one-off event. But you still want to talk about the likelyhood of a candidate winning. However people do make **models** of elections, based on inputs such as race, age, income, sampling polls, etc. They assign likeyhoods of candidates winning and run large numbers of **simulations** of the election, making predictions based on that. Forecasters like Nate Silver, Sam Wang, And Drew Linzer, made incredibly successfull predictions of the 2012 elections.\n",
    "\n",
    "Or consider what a weather forecaster means when he or she says there is a 90% chance of rain today. Presumably, this conclusion has been made from many computer **simulations** which take in the weather conditions known in the past, and propagated using physics to the current day. The simulations give different results based on the uncertainty in the measurement of past weather, and the inability of the physics to capture the phenomenon exactly (all physics is some approximation to the natural world). But 90% of these simulations show rain.\n",
    "\n",
    "In all of these cases, there is either a model (a fair coin, an election forecasting model, a weather differential equation), or an experiment ( a large number of coin tosses) that is used to **estimate** a probability, or the odds, of an **event** $E$ occuring. \n",
    "\n",
    "#### Combining models and observations\n",
    "\n",
    "In all of these cases, probability is something we speak of, for observations we are to make in the future. And it is something we assign, based on the *model* or belief of the world we have, or on the basis of past observations that we have made, or that we might even imagine that we would make.\n",
    "\n",
    "Consider some additional examples. You might ask the probability of the Yankees winning the next baseball game against the Red Sox. Or you might ask for the probability of a launch failure for the next missile protecting Tel-Aviv. These are not academic questions: lots of betting money and lives depend upon them respectively. In both cases there is some past data, and some other inputs such as say, weather conditions, which might be used to construct a model, which is then used to predict the fate of the next game or launch. \n",
    "\n",
    "They key takeaway is this: for some reasons, and possibly using some data, we have constructed a model of the universe. In other words, we have combined **prior** beliefs and past frequencies respectively. This notion of such combination is yet another notion of probability, called the **Bayesian** notion of probability. And we can now use this model to make predictions, such us the future odds of a particular event happening."
   ]
  },
  {
   "cell_type": "markdown",
   "metadata": {},
   "source": [
    "### Testing a model\n",
    "\n",
    "We can test this model by having carried out a large number of coin flips. You would do, or imagine doing, a large number of flips or **trials** $N$, and finding the number of times you got heads $N_H$. Then the probability of getting heads would be \n",
    "$$\\frac{N_H}{N}.$$\n",
    "\n",
    "#### Probability as frequency\n",
    "\n",
    "This is the notion of probability as a **relative frequency**: if there are multiple ways an **event** like the tossing of a coin can happen, lets look at multiple trials of the event and see the fraction of times one or other of these ways happened. "
   ]
  },
  {
   "cell_type": "markdown",
   "metadata": {},
   "source": [
    "#### Simulating the results of the model\n",
    "\n",
    "We dont have a coin right now. So let us **simulate** this process on a computer. To do this we will use a form of the **random number generator** built into `numpy`. In particular, we will use the function `np.random.choice`, which will with equal probability for all items pick an item from a list (thus if the list is of size 6, it will pick one of the six list items each time, with a probability 1/6). "
   ]
  },
  {
   "cell_type": "code",
   "execution_count": 33,
   "metadata": {},
   "outputs": [
    {
     "name": "stdout",
     "output_type": "stream",
     "text": [
      "Number of Heads: 53\n",
      "Number of Heads: 47\n",
      "Mean of Heads: 0.53\n",
      "Mean of Heads: 0.47\n",
      "p1 = Number of Heads/Total Throws: 0.53\n"
     ]
    }
   ],
   "source": [
    "def throw_a_coin(N):\n",
    "    return np.random.choice(['H','T'], size=N)\n",
    "throws=throw_a_coin(100)\n",
    "#print(\"Throws:\",\" \".join(throws))\n",
    "print(\"Number of Heads:\", np.sum(throws=='H'))\n",
    "print(\"Number of Heads:\", np.sum(throws=='T'))\n",
    "print(\"Mean of Heads:\", np.mean(throws=='H'))\n",
    "print(\"Mean of Heads:\", np.mean(throws=='T'))\n",
    "print(\"p1 = Number of Heads/Total Throws:\", np.sum(throws=='H')/100.)"
   ]
  },
  {
   "cell_type": "markdown",
   "metadata": {},
   "source": [
    "Notice that you do not necessarily get 20 heads.\n",
    "\n",
    "Now say that we run the entire process again, a second **replication** to obtain a second sample. Then we ask the same question: what is the fraction of heads we get this time? Lets call the odds of heads in sample 2, then, $p_2$:"
   ]
  },
  {
   "cell_type": "code",
   "execution_count": 34,
   "metadata": {},
   "outputs": [
    {
     "name": "stdout",
     "output_type": "stream",
     "text": [
      "Number of Heads: 20\n",
      "p1 = Number of Heads/Total Throws: 0.5\n"
     ]
    }
   ],
   "source": [
    "throws=throw_a_coin(40)\n",
    "print(\"Number of Heads:\", np.sum(throws=='H'))\n",
    "print(\"p1 = Number of Heads/Total Throws:\", np.sum(throws=='H')/40.)"
   ]
  },
  {
   "cell_type": "code",
   "execution_count": 35,
   "metadata": {},
   "outputs": [
    {
     "name": "stdout",
     "output_type": "stream",
     "text": [
      "Number of Heads: 4958\n",
      "p1 = Number of Heads/Total Throws: 0.4958\n"
     ]
    }
   ],
   "source": [
    "throws=throw_a_coin(10000)\n",
    "print(\"Number of Heads:\", np.sum(throws=='H'))\n",
    "print(\"p1 = Number of Heads/Total Throws:\", np.sum(throws=='H')/10000.)"
   ]
  },
  {
   "cell_type": "markdown",
   "metadata": {},
   "source": [
    "As you can see, the larger number of trials we do, the closer we seem to get to half the tosses showing up heads. Lets see this more systematically. We'll use `np.arange` which gives us a grid:"
   ]
  },
  {
   "cell_type": "code",
   "execution_count": 36,
   "metadata": {},
   "outputs": [
    {
     "data": {
      "text/plain": [
       "(array([0, 1, 2, 3, 4, 5, 6, 7, 8, 9]),\n",
       " array([10, 11, 12, 13, 14, 15, 16, 17, 18, 19]),\n",
       " array([10, 12, 14, 16, 18]))"
      ]
     },
     "execution_count": 36,
     "metadata": {},
     "output_type": "execute_result"
    }
   ],
   "source": [
    "np.arange(10), np.arange(10,20), np.arange(10,20, 2)"
   ]
  },
  {
   "cell_type": "markdown",
   "metadata": {},
   "source": [
    "We are going to do many more trials. Pay attention to the plotting commands as well."
   ]
  },
  {
   "cell_type": "code",
   "execution_count": 37,
   "metadata": {},
   "outputs": [
    {
     "name": "stdout",
     "output_type": "stream",
     "text": [
      "[ 1000  2000  3000  4000  5000  6000  7000  8000  9000 10000 11000 12000\n",
      " 13000 14000 15000 16000 17000 18000 19000 20000 21000 22000 23000 24000\n",
      " 25000 26000 27000 28000 29000 30000 31000 32000 33000 34000 35000 36000\n",
      " 37000 38000 39000]\n"
     ]
    },
    {
     "data": {
      "image/png": "[encoded data removed]",
      "text/plain": [
       "<Figure size 432x288 with 1 Axes>"
      ]
     },
     "metadata": {
      "needs_background": "light"
     },
     "output_type": "display_data"
    }
   ],
   "source": [
    "trials=np.arange(1000, 40000, 1000)\n",
    "print(trials)\n",
    "plt.plot(trials, [np.sum(throw_a_coin(j)=='H')/np.float(j) for j in trials], 'o-', alpha=0.8);\n",
    "plt.axhline(0.5, 0, 1, color='r');\n",
    "plt.xlabel('number of trials');\n",
    "plt.ylabel('probability of heads from simulation');\n",
    "plt.title('frequentist probability of heads');"
   ]
  },
  {
   "cell_type": "markdown",
   "metadata": {},
   "source": [
    "Thus, the true odds **fluctuate** about their long-run value of 0.5, in accordance with the model of a fair coin (which we encoded in our simulation by having `np.random.choice` choose between two possibilities with equal probability), with the fluctuations becoming much smaller (we shall talk a lot more about this later in the book). These **fluctations** are what give rise to probability distributions.\n",
    "\n",
    "Each finite length run is called a **sample**, which has been obtained from the **generative** model of our fair coin. Its called generative as we can use the model to generate, using simulation, a set of samples we can play with to understand a model. Such **simulation from a model** is a key technique which we will come back to again and again in learning from data."
   ]
  },
  {
   "cell_type": "markdown",
   "metadata": {},
   "source": [
    "### The rules of probability\n",
    "\n",
    "We have seen multiple notions of probability so far. One might assign probabilities based on symmetry, for eg, 2 sides of a fair coin, or six sides of a fair dice. One might assign probabilities based on doing an experiment. such as the long run number of heads in many coin flips. One might assign probabilities based on beliefs; and one might even assign probabilities to events that have no chance of repeating, such as the 2012 presidential election, or the probability of rain between 2pm and 6pm today.\n",
    "\n",
    "Thus, the very definition of probability seems to be wishy-washy and subjective. Thus you might wonder how you might work with such probabilities. For this, we turn to the rules of probability.\n",
    "\n",
    "The rules dont care where our probabilities come from, as to how we estimated them, as long as they behave in intuitively sensible ways. \n",
    "\n",
    "Consider an example: \n",
    "\n",
    "E is the event of getting a heads in a first coin toss, and F is the same for a second coin toss. Here $\\Omega$, the set of all possibilities that can happen when you toss two coins is $\\{HH, HT, TH, TT\\}$. Since E only specifies that the first toss is heads, $E=\\{HT, HH\\}$. Similarly $F= {HH, TH}$ The set of all events that are not E then is $\\tilde{E} = {TH, TT}$.\n",
    "\n",
    "These sets, along with some others are captured in the venn diagram below:\n",
    "\n",
    "![2 coin toss venn diagram](images/venn.png) \n",
    "\n",
    "The critical notions of probability are:\n",
    "\n",
    "**Something must happen**\n",
    "\n",
    "$$P(\\Omega) =1$$\n",
    "\n",
    "**Complementary events must have probabilities summing to 1**\n",
    "\n",
    "Either E happened or didnt. So,\n",
    "\n",
    "$$P(E) + P(\\sim E) = 1$$\n",
    "\n",
    "**The Multiply/And/Intersection Formula for independent events**: If E and F are independent events, the probability of both events happening together $P(EF)$ or $P(E \\cap F)$ (read as E and F or E intersection F, respectively) is the multiplication of the individual probabilities.\n",
    "\n",
    "$$ P(EF) = P(E) P(F) .$$\n",
    "\n",
    "If you made the two independent coin tosses in our example, and you had a fair coin, the probability of both coming up heads is $(1/2)*(1/2) = 1/4$. This makes intuitive sense: half the time the first coin comes up heads, and then 1/2 the time the second coin comes up heads, so its 1/4 of the times that both come up heads.\n",
    "\n",
    "\n",
    "**The Plus/Or/Union Formula** \n",
    "\n",
    "We can now ask the question, what is $P(E+F)$, the odds of E alone, F alone, or both together. Translated into English, we are asking, whats the probability that only the first toss was heads, or only the second toss was heads, or that both came up heads?  Or in other words, what are the odds of at least one heads? The answer to this question is given by the rule:\n",
    "\n",
    "$$P(E+F) = P(E) + P(F) - P(EF),$$ \n",
    "\n",
    "the \"plus\" formula, where E+F, read as E or F (also $E \\cup F$, reads as E union F) means \"E alone, F alone, **or** both together\". This rule is a hard one to understand and has a lot of notation, so lets examine it in some detail.\n",
    "\n",
    "There are four ways that these two tosses can arrange themselves, as illustrated by this diagram.\n",
    "\n",
    "![2 coin flips](images/2flips.png) \n",
    "\n",
    "We can have a HH, HT, TH, or TT. In three out of 4 of these cases, either the first toss was heads, or the second was heads. Thus $P(E+F)=3/4$. \n",
    "\n",
    "The formula says, add the odds that \"the first toss was a heads, without worrying about the second one (1/2), to the probability that the second toss was a heads, without worrying about the first one\" (1/2). Since this double counts the situation where both are heads; subtract that (1/4):\n",
    "\n",
    "\\begin{eqnarray*}\n",
    "P(E+F) \\, & = &\\, P(E) + P(F) - P(EF)\\\\\n",
    "\\frac{3}{4} \\, & = &\\, \\frac{1}{2} + \\frac{1}{2} - \\frac{1}{4} \n",
    "\\end{eqnarray*}\n"
   ]
  },
  {
   "cell_type": "markdown",
   "metadata": {},
   "source": [
    "### A simple Election Model\n",
    "\n",
    "In the last section, we made a simple simulation of a coin-toss on the computer from a fair-coin model which associated equal probability with heads and tails. Let us consider another model here, a table of probabilities that [PredictWise](http://www.predictwise.com/results/2012/president) made on October 2, 2012 for the US presidential elections. \n",
    "PredictWise aggregated polling data and, for each state, estimated the probability that the Obama or Romney would win. Here are those estimated probabilities:"
   ]
  },
  {
   "cell_type": "code",
   "execution_count": 38,
   "metadata": {},
   "outputs": [
    {
     "data": {
      "text/html": [
       "<div>\n",
       "<style scoped>\n",
       "    .dataframe tbody tr th:only-of-type {\n",
       "        vertical-align: middle;\n",
       "    }\n",
       "\n",
       "    .dataframe tbody tr th {\n",
       "        vertical-align: top;\n",
       "    }\n",
       "\n",
       "    .dataframe thead th {\n",
       "        text-align: right;\n",
       "    }\n",
       "</style>\n",
       "<table border=\"1\" class=\"dataframe\">\n",
       "  <thead>\n",
       "    <tr style=\"text-align: right;\">\n",
       "      <th></th>\n",
       "      <th>Obama</th>\n",
       "      <th>Romney</th>\n",
       "      <th>Votes</th>\n",
       "    </tr>\n",
       "    <tr>\n",
       "      <th>States</th>\n",
       "      <th></th>\n",
       "      <th></th>\n",
       "      <th></th>\n",
       "    </tr>\n",
       "  </thead>\n",
       "  <tbody>\n",
       "    <tr>\n",
       "      <th>Alabama</th>\n",
       "      <td>0.000</td>\n",
       "      <td>1.000</td>\n",
       "      <td>9</td>\n",
       "    </tr>\n",
       "    <tr>\n",
       "      <th>Alaska</th>\n",
       "      <td>0.000</td>\n",
       "      <td>1.000</td>\n",
       "      <td>3</td>\n",
       "    </tr>\n",
       "    <tr>\n",
       "      <th>Arizona</th>\n",
       "      <td>0.062</td>\n",
       "      <td>0.938</td>\n",
       "      <td>11</td>\n",
       "    </tr>\n",
       "    <tr>\n",
       "      <th>Arkansas</th>\n",
       "      <td>0.000</td>\n",
       "      <td>1.000</td>\n",
       "      <td>6</td>\n",
       "    </tr>\n",
       "    <tr>\n",
       "      <th>California</th>\n",
       "      <td>1.000</td>\n",
       "      <td>0.000</td>\n",
       "      <td>55</td>\n",
       "    </tr>\n",
       "  </tbody>\n",
       "</table>\n",
       "</div>"
      ],
      "text/plain": [
       "            Obama  Romney  Votes\n",
       "States                          \n",
       "Alabama     0.000   1.000      9\n",
       "Alaska      0.000   1.000      3\n",
       "Arizona     0.062   0.938     11\n",
       "Arkansas    0.000   1.000      6\n",
       "California  1.000   0.000     55"
      ]
     },
     "execution_count": 38,
     "metadata": {},
     "output_type": "execute_result"
    }
   ],
   "source": [
    "predictwise = pd.read_csv('data/predictwise.csv').set_index('States')\n",
    "predictwise.head()"
   ]
  },
  {
   "cell_type": "markdown",
   "metadata": {},
   "source": [
    "Each row is the probability predicted by Predictwise that Romney or Obama would win a state. The votes column lists the number of electoral college votes in that state. \n",
    "\n",
    "Remember that simulation is used in different ways in the modelling process. Simulations might be used to propagate differential equations which describe the weather from different initial conditions. In this case they are used to create the model. In the coin flips case, they are used to illustrate the predictions of the model of a fair coin. This example is in the same spirit: we are given a (somehow obtained) list of win probabilities for the states of the US. \n",
    "Later on in this book we will explore some approaches to estimating probabilities like these and quatifying our uncertainty about them. But for the time being, we will focus on how to make a prediction assuming these probabilities are known.\n",
    "\n",
    "Lets plot a map of the probability that Obama wins each state, according to this prediction."
   ]
  },
  {
   "cell_type": "code",
   "execution_count": 39,
   "metadata": {
    "figure_type": "w"
   },
   "outputs": [
    {
     "data": {
      "image/png": "[encoded data removed]",
      "text/plain": [
       "<Figure size 864x648 with 2 Axes>"
      ]
     },
     "metadata": {
      "needs_background": "light"
     },
     "output_type": "display_data"
    }
   ],
   "source": [
    "from statesplot import make_map, load_states_geom\n",
    "s2p = load_states_geom(\"data/us-states.json\")\n",
    "make_map(s2p, predictwise.Obama, \"P(Obama): PredictWise\");"
   ]
  },
  {
   "cell_type": "markdown",
   "metadata": {},
   "source": [
    "You might be tempted from seeing this map to wonder why Romney ever thought he would win this election. But lets be patient: remember these are just probabilities, and this is our model of the election as of October 12th, 2012.\n",
    "\n",
    "In the case of the tossed coins, even though we had a model which said that the probability of heads was 0.5, there were sequences of flips in which more or less than half the flips were heads. Similarly, here, if the probability of Romney winning in Arizona is 0.938, it means that if somehow, there were 1000 replications with an election each, Romney would win in 938 of those Arizonas **on the average** across the replications. And there would be some samples with Romney winning more, and some with less. We can run these **simulated** universes on a computer though not in real life.\n",
    "\n",
    "#### Simulating the model\n",
    "\n",
    "To do this, \n",
    "we will assume that the outcome in each state is the result of an independent coin flip whose probability of coming up Obama is given by the Predictwise state-wise win probabilities. Lets write a function `simulate_election` that uses this **predictive model** to simulate the outcome of the election given a table of probabilities.\n",
    "\n",
    "In the code below, each column simulates a single outcome from the 50 states + DC by choosing a random number between 0 and 1. Obama wins that simulation if the random number is $<$ the win probability. If he wins that simulation, we add in the electoral votes for that state, otherwise we dont. We do this `n_sim` times and return a list of total Obama electoral votes in each simulation."
   ]
  },
  {
   "cell_type": "code",
   "execution_count": 40,
   "metadata": {},
   "outputs": [],
   "source": [
    "def simulate_election(model, n_sim):\n",
    "    simulations = np.random.uniform(size=(51, n_sim))\n",
    "    obama_votes = (simulations < model.Obama.values.reshape(-1, 1)) * model.Votes.values.reshape(-1, 1)\n",
    "    #summing over rows gives the total electoral votes for each simulation\n",
    "    return obama_votes.sum(axis=0)"
   ]
  },
  {
   "cell_type": "markdown",
   "metadata": {},
   "source": [
    "Lets unpack this function a bit, as a lot goes on.\n",
    "\n",
    "First we decide to make, say 100 simulations. We'll create 51 rows of 100 random numbers (100 columns) between 0 and 1"
   ]
  },
  {
   "cell_type": "code",
   "execution_count": 41,
   "metadata": {},
   "outputs": [
    {
     "name": "stdout",
     "output_type": "stream",
     "text": [
      "(51, 1000)\n"
     ]
    },
    {
     "data": {
      "text/plain": [
       "array([[0.10748999, 0.31949838, 0.56237869, ..., 0.23752602, 0.09218497,\n",
       "        0.23127619],\n",
       "       [0.51026158, 0.46652779, 0.59929062, ..., 0.22029186, 0.31852766,\n",
       "        0.06954326],\n",
       "       [0.05069021, 0.0437293 , 0.44050781, ..., 0.72564584, 0.30454394,\n",
       "        0.77805501],\n",
       "       ...,\n",
       "       [0.46813023, 0.6778162 , 0.26593743, ..., 0.11172605, 0.50580033,\n",
       "        0.07543554],\n",
       "       [0.49193875, 0.46649216, 0.80189126, ..., 0.66771206, 0.63746356,\n",
       "        0.12402189],\n",
       "       [0.73152114, 0.63907165, 0.81858144, ..., 0.68867842, 0.0637655 ,\n",
       "        0.84897002]])"
      ]
     },
     "execution_count": 41,
     "metadata": {},
     "output_type": "execute_result"
    }
   ],
   "source": [
    "sims = np.random.uniform(size=(51, 1000))\n",
    "print(sims.shape)\n",
    "sims"
   ]
  },
  {
   "cell_type": "markdown",
   "metadata": {},
   "source": [
    "Now, consider the sixth row, or sixth state, Colorado"
   ]
  },
  {
   "cell_type": "code",
   "execution_count": 42,
   "metadata": {},
   "outputs": [
    {
     "name": "stdout",
     "output_type": "stream",
     "text": [
      "Obama     0.807\n",
      "Romney    0.193\n",
      "Votes     9.000\n",
      "Name: Colorado, dtype: float64\n"
     ]
    },
    {
     "data": {
      "text/plain": [
       "array([8.40143788e-01, 2.41804591e-01, 3.24967858e-01, 7.77329887e-01,\n",
       "       7.44933180e-02, 6.43323375e-01, 1.45840768e-01, 7.04843737e-02,\n",
       "       3.88345439e-01, 9.20954384e-01, 3.09397731e-01, 4.59054094e-01,\n",
       "       4.08642141e-01, 2.55203015e-01, 4.46996101e-01, 6.81907875e-01,\n",
       "       2.53472937e-01, 3.30446156e-01, 5.18489741e-01, 9.98584321e-01,\n",
       "       6.89105040e-02, 1.02412484e-01, 1.01271265e-02, 2.10330896e-01,\n",
       "       4.58797048e-01, 8.46407128e-01, 1.68816806e-01, 6.49588740e-01,\n",
       "       4.99263525e-01, 9.86769909e-01, 9.33738775e-01, 5.11875674e-01,\n",
       "       1.90911568e-01, 8.30421759e-01, 3.14952894e-01, 7.57841376e-01,\n",
       "       7.01053206e-01, 9.70600644e-01, 6.98807290e-01, 7.45310136e-01,\n",
       "       8.73841119e-01, 5.32651287e-01, 9.50089475e-01, 8.64558083e-01,\n",
       "       8.65935082e-01, 7.16955784e-01, 9.86830614e-01, 9.70085093e-02,\n",
       "       5.76472912e-01, 7.48231783e-01, 4.90206709e-01, 3.96731503e-01,\n",
       "       4.10873911e-01, 1.81743077e-01, 7.02962186e-01, 3.75039675e-01,\n",
       "       8.69323736e-01, 8.11731816e-02, 9.05500228e-01, 1.89288330e-01,\n",
       "       4.26038044e-01, 4.67317035e-01, 8.30973090e-01, 7.90389447e-01,\n",
       "       9.77896313e-01, 9.10461593e-01, 4.44862593e-02, 4.20775743e-02,\n",
       "       3.29376301e-01, 9.90539454e-01, 7.04789283e-01, 3.48491212e-01,\n",
       "       2.63696861e-02, 6.94367269e-01, 7.77984423e-01, 7.51887110e-01,\n",
       "       8.99346936e-02, 3.30717530e-03, 5.14342207e-01, 6.39902267e-01,\n",
       "       8.33649405e-01, 6.95194047e-01, 7.17235735e-01, 7.75274128e-01,\n",
       "       2.20746408e-01, 3.47342229e-01, 1.54426859e-01, 4.21643148e-01,\n",
       "       3.68137748e-01, 5.66888112e-01, 4.77504731e-01, 3.64669757e-01,\n",
       "       2.40421691e-01, 9.59140316e-01, 7.07062046e-02, 1.13373697e-01,\n",
       "       7.41239970e-01, 9.86434979e-01, 7.95241241e-01, 9.03606341e-02,\n",
       "       1.17206368e-01, 4.38415396e-01, 3.63772835e-01, 2.18132505e-01,\n",
       "       9.73691022e-01, 1.52330481e-01, 3.97119515e-01, 9.43508564e-01,\n",
       "       7.80210385e-01, 3.87840660e-02, 5.19274169e-01, 2.66125757e-01,\n",
       "       1.19404868e-01, 2.03089822e-01, 1.19907284e-01, 8.60589515e-01,\n",
       "       5.50287447e-01, 6.26490941e-01, 5.29614101e-01, 5.73345175e-01,\n",
       "       5.73932585e-02, 9.73307715e-01, 2.48621949e-01, 4.41585885e-01,\n",
       "       2.44413022e-01, 1.58464096e-01, 3.78870951e-01, 3.64348174e-01,\n",
       "       2.40901693e-02, 7.60530030e-01, 9.15077498e-02, 2.25089717e-01,\n",
       "       3.97206440e-01, 6.94455642e-01, 9.76205901e-01, 1.99417004e-01,\n",
       "       8.01131293e-01, 1.97053379e-01, 3.26790304e-01, 7.68361646e-01,\n",
       "       3.44070403e-02, 2.82328424e-01, 8.43467584e-01, 5.79599488e-01,\n",
       "       6.94857148e-01, 4.51642985e-01, 2.32642220e-01, 1.46481499e-01,\n",
       "       3.99891869e-01, 3.17470412e-01, 8.64298849e-01, 1.28897742e-01,\n",
       "       7.49465858e-01, 1.53853593e-01, 1.80371542e-01, 6.25220093e-01,\n",
       "       7.89058816e-01, 4.22915662e-01, 4.46615160e-01, 8.76191943e-01,\n",
       "       6.39024208e-01, 4.53146643e-01, 2.14084513e-01, 1.57255817e-01,\n",
       "       2.10027952e-01, 3.34375629e-01, 9.89782933e-01, 3.88994414e-01,\n",
       "       2.48581228e-01, 8.13765650e-01, 9.75009710e-01, 3.88653642e-01,\n",
       "       1.67216677e-01, 2.51880190e-01, 8.40302024e-02, 3.24135157e-01,\n",
       "       5.03690921e-03, 6.35811098e-01, 1.01355793e-01, 3.63069593e-01,\n",
       "       5.03169713e-02, 5.61766483e-01, 1.84349665e-01, 2.08622234e-01,\n",
       "       6.41965929e-01, 5.53909866e-01, 1.49614861e-01, 3.82597226e-01,\n",
       "       6.18529800e-01, 2.58364813e-01, 1.57435850e-02, 7.96970761e-01,\n",
       "       6.75952746e-01, 2.16988858e-02, 3.68375622e-01, 4.69875026e-01,\n",
       "       5.93620657e-01, 9.79591574e-02, 9.00225916e-01, 1.19913875e-01,\n",
       "       9.72802883e-01, 1.40168831e-01, 5.02851503e-01, 3.96366053e-01,\n",
       "       3.92058412e-01, 5.12656063e-01, 4.00713580e-01, 5.74381249e-01,\n",
       "       8.13531842e-01, 9.47117581e-01, 3.98103797e-01, 1.90496024e-01,\n",
       "       4.71596746e-01, 5.57822385e-01, 1.57481908e-01, 1.33800796e-01,\n",
       "       4.73525526e-01, 5.25717073e-01, 9.24785629e-01, 7.72801091e-01,\n",
       "       4.40309112e-01, 4.79357755e-01, 7.77427110e-01, 9.05231905e-01,\n",
       "       3.75602938e-01, 6.14562969e-01, 5.90924987e-01, 1.73673119e-01,\n",
       "       7.16403252e-01, 2.62811049e-01, 9.30585419e-01, 6.99339392e-01,\n",
       "       2.21973214e-01, 8.44502182e-01, 7.10421963e-01, 2.87174077e-01,\n",
       "       7.50669046e-01, 5.58854247e-01, 8.50246650e-01, 2.10114127e-01,\n",
       "       4.95597310e-01, 9.31146475e-01, 6.78180326e-01, 2.48248173e-01,\n",
       "       2.43230782e-01, 8.47773199e-01, 7.71017789e-01, 3.76358328e-01,\n",
       "       2.91251531e-01, 9.23485900e-01, 8.37019687e-01, 2.54163573e-01,\n",
       "       6.53112109e-01, 5.93741907e-02, 9.36115857e-01, 7.39047172e-01,\n",
       "       3.90525382e-01, 2.27763380e-01, 3.08251567e-01, 3.11743739e-01,\n",
       "       9.62771186e-01, 1.22875588e-01, 9.30094372e-01, 2.52540198e-01,\n",
       "       4.04350699e-01, 6.63562858e-01, 9.21039007e-01, 3.01373129e-01,\n",
       "       8.92340236e-01, 9.46660318e-01, 6.20594509e-01, 4.54295198e-03,\n",
       "       2.51318928e-01, 2.23495884e-01, 4.44117964e-01, 8.15936877e-01,\n",
       "       1.40514707e-01, 7.38687585e-01, 5.70310631e-01, 6.18887538e-01,\n",
       "       7.00214880e-01, 1.39340689e-01, 5.33432670e-01, 9.31702075e-01,\n",
       "       5.04687176e-01, 4.17413269e-01, 2.42740519e-01, 1.46747477e-01,\n",
       "       5.47135838e-01, 6.10964581e-01, 9.91441439e-01, 2.24737277e-01,\n",
       "       3.46450546e-01, 2.91463720e-01, 9.32156266e-03, 2.54879662e-01,\n",
       "       7.37420234e-01, 7.06823540e-01, 6.30890487e-01, 9.16714484e-01,\n",
       "       8.00196630e-01, 8.40743047e-01, 3.61383815e-01, 7.95108344e-01,\n",
       "       1.03591873e-01, 4.29154058e-02, 6.46477741e-01, 4.09486667e-01,\n",
       "       5.90433984e-01, 2.39687029e-01, 7.19748012e-01, 6.67346665e-01,\n",
       "       6.79350266e-01, 3.72659517e-01, 3.62476083e-01, 5.43463511e-02,\n",
       "       5.92970297e-01, 8.99423272e-01, 9.96239791e-01, 9.87554962e-01,\n",
       "       2.09937949e-01, 4.22634694e-01, 7.87454699e-01, 5.64757636e-01,\n",
       "       5.58150951e-01, 8.62314375e-01, 7.38445947e-01, 3.15935516e-01,\n",
       "       9.59471157e-01, 4.32888032e-01, 4.71927189e-01, 6.40425890e-01,\n",
       "       8.37429823e-01, 1.77387052e-02, 7.33546669e-01, 8.07495221e-01,\n",
       "       2.96246985e-01, 3.07131449e-01, 3.33131359e-01, 7.66358995e-01,\n",
       "       8.87060513e-01, 4.10678773e-01, 5.63330243e-01, 6.62931303e-01,\n",
       "       4.66469711e-01, 2.81751617e-01, 2.90561456e-01, 7.67308993e-01,\n",
       "       6.72505359e-01, 2.03834415e-02, 7.15227780e-01, 2.60279869e-01,\n",
       "       6.56967615e-01, 8.15995474e-02, 2.95180872e-01, 2.67238129e-01,\n",
       "       7.18262790e-01, 1.99745329e-01, 3.66981304e-01, 2.51138406e-01,\n",
       "       7.10263112e-01, 9.50222870e-01, 7.53469890e-01, 7.06836399e-01,\n",
       "       2.68905772e-01, 4.76002128e-01, 6.19951652e-02, 4.22469120e-01,\n",
       "       5.76014253e-01, 4.79382209e-01, 6.15923281e-01, 8.78646285e-01,\n",
       "       2.96071541e-01, 1.14827500e-01, 3.14839336e-01, 6.19654673e-01,\n",
       "       9.66606655e-02, 4.78719078e-01, 4.40612939e-02, 6.39560970e-01,\n",
       "       2.82410551e-01, 3.87252802e-01, 9.81795781e-01, 6.10478656e-01,\n",
       "       8.10379933e-01, 4.04082977e-01, 3.61436976e-01, 5.70859163e-01,\n",
       "       8.62886141e-01, 4.95471850e-02, 1.46550545e-01, 2.07805837e-01,\n",
       "       5.33488717e-01, 3.97849454e-01, 9.29423251e-01, 8.34103027e-01,\n",
       "       9.19152075e-01, 5.78532981e-01, 1.68963455e-01, 7.10550972e-01,\n",
       "       8.31560132e-01, 1.18179462e-01, 2.94608254e-01, 5.95267249e-01,\n",
       "       3.37023934e-01, 4.20303274e-01, 2.62648608e-01, 3.19791637e-01,\n",
       "       1.79857752e-01, 8.12944454e-01, 5.65479679e-01, 6.00096078e-01,\n",
       "       3.37684344e-02, 7.58822655e-01, 5.09998703e-01, 1.39094271e-02,\n",
       "       1.31960548e-01, 2.72757561e-02, 5.96028144e-01, 2.97204231e-01,\n",
       "       8.10378995e-01, 8.89414661e-01, 7.19266290e-01, 5.34876119e-01,\n",
       "       1.38316531e-01, 2.68048056e-01, 1.29396533e-01, 9.53307821e-01,\n",
       "       9.45089866e-01, 3.02715504e-01, 4.52834172e-01, 6.81115562e-01,\n",
       "       9.61958544e-01, 3.38368510e-01, 1.98999878e-01, 7.91895057e-02,\n",
       "       5.06558474e-01, 3.09666979e-01, 9.11566764e-01, 2.73312149e-01,\n",
       "       4.53697053e-02, 9.63594189e-02, 7.69375388e-01, 6.99285665e-01,\n",
       "       7.90550519e-02, 4.48327183e-01, 6.89758739e-01, 8.75537257e-01,\n",
       "       6.28522445e-01, 1.97075786e-01, 4.70608769e-02, 1.29049589e-03,\n",
       "       9.22960968e-01, 4.79683004e-01, 4.70177436e-01, 9.15100672e-01,\n",
       "       5.64914404e-01, 5.10665030e-01, 6.21149376e-01, 4.92422206e-01,\n",
       "       9.83336636e-01, 9.41123344e-01, 2.99715992e-01, 8.02895751e-01,\n",
       "       8.69256819e-01, 9.86378783e-01, 4.50278260e-01, 2.29463731e-01,\n",
       "       6.10809435e-01, 8.66015000e-01, 1.22784409e-02, 3.93929523e-01,\n",
       "       1.15883176e-01, 8.54262480e-01, 4.50324387e-01, 4.73880963e-01,\n",
       "       6.39900889e-01, 2.70742109e-02, 8.59704870e-02, 3.14698975e-01,\n",
       "       3.83030456e-01, 7.93082179e-01, 9.51807213e-01, 2.92895049e-01,\n",
       "       3.89564944e-01, 6.74236354e-01, 8.97038130e-01, 9.31446926e-01,\n",
       "       5.62636526e-01, 1.37170105e-01, 1.61137920e-02, 5.12288406e-01,\n",
       "       3.97008710e-01, 7.82456358e-01, 2.35275948e-01, 9.56664059e-01,\n",
       "       9.65852581e-01, 7.97223331e-01, 8.86918756e-01, 4.28061401e-01,\n",
       "       6.65080999e-01, 8.71221424e-01, 3.32459206e-01, 7.32057424e-01,\n",
       "       9.67723364e-01, 9.46960514e-01, 5.16688132e-01, 7.21257335e-01,\n",
       "       2.27596542e-01, 6.70736098e-01, 3.87449158e-01, 4.30079204e-01,\n",
       "       7.68707832e-01, 7.40508430e-01, 7.54171005e-01, 7.89061937e-03,\n",
       "       7.32365211e-01, 3.12237265e-01, 4.31244759e-01, 3.24733904e-01,\n",
       "       2.59547392e-01, 6.16786383e-01, 3.87811284e-01, 2.19686935e-02,\n",
       "       1.73449490e-01, 5.84870001e-01, 9.83975492e-01, 1.97928219e-01,\n",
       "       8.14204786e-01, 2.94036672e-01, 4.30947552e-01, 2.22261239e-01,\n",
       "       7.95246551e-02, 2.08020840e-01, 2.52302360e-01, 9.94449083e-01,\n",
       "       3.18413130e-01, 3.92443775e-01, 8.34514272e-01, 2.03358161e-01,\n",
       "       5.40865128e-01, 9.31580169e-01, 1.71225502e-01, 8.88467089e-01,\n",
       "       1.79530085e-01, 7.06058135e-01, 3.79302431e-01, 9.91578913e-01,\n",
       "       8.25618278e-01, 9.86787040e-01, 6.99085681e-01, 1.16756071e-01,\n",
       "       5.52095338e-01, 3.33725477e-01, 2.94765683e-01, 4.04511551e-01,\n",
       "       3.78013257e-01, 8.70455782e-01, 3.65356633e-01, 8.08081341e-01,\n",
       "       7.69235556e-01, 6.56508498e-01, 2.52935408e-01, 5.61665115e-01,\n",
       "       4.78594219e-01, 9.02594397e-01, 1.96890580e-01, 7.65639232e-01,\n",
       "       1.85487916e-01, 5.05839327e-01, 7.65541892e-03, 1.70395085e-01,\n",
       "       2.44305766e-02, 5.98342015e-01, 5.66998807e-01, 6.99208866e-01,\n",
       "       6.05589684e-01, 6.97140751e-01, 1.07791376e-01, 9.19270685e-02,\n",
       "       5.01369340e-01, 6.32632398e-01, 2.40715367e-01, 2.12430439e-01,\n",
       "       5.66993698e-01, 6.85433613e-01, 4.81893821e-01, 2.99224814e-01,\n",
       "       2.82025815e-02, 3.07217121e-01, 4.85207668e-01, 9.87570229e-01,\n",
       "       6.29056292e-01, 3.81779736e-01, 7.49397154e-01, 3.69139112e-01,\n",
       "       3.16060121e-01, 2.35230142e-01, 5.91298197e-01, 8.59921171e-01,\n",
       "       3.94439526e-01, 6.27602981e-01, 3.07375737e-01, 6.95109306e-01,\n",
       "       3.32638518e-01, 5.28210273e-01, 9.11802067e-01, 8.35553929e-01,\n",
       "       6.84322246e-01, 8.48555297e-02, 6.48901729e-02, 3.13346472e-01,\n",
       "       7.88221703e-01, 8.58662498e-01, 8.76705229e-01, 6.16344986e-01,\n",
       "       4.97761774e-01, 1.58625267e-01, 4.35585917e-01, 7.36023532e-01,\n",
       "       4.78692563e-01, 6.65301920e-01, 7.12225045e-01, 2.86149596e-01,\n",
       "       4.81882383e-01, 1.96748824e-01, 8.43307081e-01, 5.79256370e-01,\n",
       "       2.03139110e-01, 7.11181063e-01, 3.38853426e-01, 8.15910315e-01,\n",
       "       2.39270166e-01, 4.64688067e-01, 2.52950906e-01, 9.69694595e-01,\n",
       "       6.08429571e-01, 2.00183109e-01, 9.39812951e-01, 6.92507356e-02,\n",
       "       7.64163826e-01, 4.15425612e-01, 7.79734565e-01, 8.12637958e-01,\n",
       "       1.75539785e-02, 6.21343792e-01, 1.34182387e-01, 2.88104354e-01,\n",
       "       8.28594179e-01, 1.62060546e-01, 6.01038841e-01, 9.45273031e-01,\n",
       "       3.17107880e-01, 7.76148742e-01, 6.93549301e-01, 9.78970994e-01,\n",
       "       8.72551559e-01, 4.58207211e-01, 5.14208472e-01, 4.74214944e-02,\n",
       "       4.38507623e-01, 8.88874074e-01, 6.46816258e-01, 8.26885478e-01,\n",
       "       4.45307435e-01, 3.94394781e-01, 4.97188067e-01, 5.39399823e-01,\n",
       "       3.66131029e-01, 2.10618336e-01, 8.26375546e-01, 8.20682368e-01,\n",
       "       4.54987040e-01, 4.45380006e-01, 1.08598321e-01, 8.71594990e-01,\n",
       "       6.99780785e-01, 5.90901714e-01, 5.44408793e-01, 5.47079623e-01,\n",
       "       5.30201818e-01, 2.47191083e-02, 9.81288375e-02, 6.72615359e-01,\n",
       "       4.84265104e-01, 5.02989455e-02, 5.04302503e-01, 8.54571600e-01,\n",
       "       9.84122231e-01, 5.01660718e-02, 8.51287631e-01, 8.77255786e-01,\n",
       "       5.83223523e-01, 8.86659437e-01, 6.05257105e-01, 4.95601474e-01,\n",
       "       4.35250831e-01, 2.00417262e-01, 9.56437954e-01, 7.82254010e-01,\n",
       "       5.02099166e-01, 3.94062777e-01, 1.41401397e-01, 7.92650191e-01,\n",
       "       8.98769184e-01, 5.51871613e-01, 7.73851397e-01, 8.21767754e-01,\n",
       "       1.13773694e-01, 1.64187431e-01, 8.02268073e-01, 6.12502689e-01,\n",
       "       2.59135088e-03, 8.57538642e-01, 2.61472486e-01, 7.88779859e-01,\n",
       "       1.43646334e-01, 8.16121789e-01, 8.76119022e-01, 1.39032642e-01,\n",
       "       3.76552400e-01, 6.20935052e-01, 1.06704148e-01, 7.69062444e-01,\n",
       "       1.29827060e-01, 4.17372031e-01, 6.62741288e-01, 6.42287142e-03,\n",
       "       2.69270613e-01, 7.45076898e-01, 5.62525179e-01, 4.72209399e-01,\n",
       "       6.80449662e-01, 4.81817236e-01, 9.03314632e-01, 7.24638311e-01,\n",
       "       1.10291346e-02, 7.93819026e-01, 8.30790761e-01, 7.83476382e-01,\n",
       "       9.42258437e-01, 4.97162801e-01, 6.09306681e-01, 4.92019339e-01,\n",
       "       2.34402935e-02, 4.70091290e-01, 3.87151802e-01, 9.68348702e-01,\n",
       "       5.02188620e-01, 9.24984782e-01, 2.55800064e-01, 8.51125951e-01,\n",
       "       3.19505072e-02, 9.98669182e-01, 1.15851222e-01, 5.88198513e-01,\n",
       "       7.07125321e-01, 8.37338073e-01, 9.24687644e-01, 9.66593151e-01,\n",
       "       7.85919741e-02, 8.75735642e-01, 9.87578371e-01, 8.58860473e-01,\n",
       "       7.59146585e-01, 9.88532655e-01, 8.76000523e-01, 2.56279443e-01,\n",
       "       1.07026303e-01, 1.68182203e-01, 2.60667852e-02, 6.10490602e-01,\n",
       "       1.30583534e-01, 2.42843684e-01, 4.35546003e-03, 3.89745855e-01,\n",
       "       1.25888711e-02, 7.89846492e-01, 8.83870701e-01, 7.06130026e-01,\n",
       "       5.12202037e-01, 6.23209703e-01, 5.11621687e-01, 8.90023225e-01,\n",
       "       4.86050770e-01, 1.70816233e-01, 6.70017590e-01, 2.57604842e-01,\n",
       "       8.15087670e-01, 8.88487068e-01, 3.45637439e-01, 7.89922599e-01,\n",
       "       2.87131676e-01, 9.28868050e-01, 9.38394248e-01, 8.75392739e-01,\n",
       "       8.82662838e-01, 4.48076517e-01, 5.16221490e-01, 1.41335463e-01,\n",
       "       3.12357073e-01, 4.90902455e-02, 7.80717091e-01, 7.16698993e-01,\n",
       "       3.46786625e-01, 7.68885963e-01, 6.37953635e-01, 1.78629971e-01,\n",
       "       2.34021927e-01, 7.96950443e-01, 4.81943923e-01, 3.35001145e-01,\n",
       "       7.15516825e-01, 1.15182547e-01, 7.80366487e-01, 5.76343487e-01,\n",
       "       7.60698621e-01, 2.33679931e-01, 2.17127273e-01, 5.50703833e-02,\n",
       "       9.49681208e-01, 7.75775296e-01, 8.14986801e-01, 3.72633057e-01,\n",
       "       6.97513208e-01, 9.57824297e-01, 9.08765821e-02, 8.80469523e-01,\n",
       "       4.64568206e-01, 9.48480552e-02, 7.83868023e-01, 4.10086329e-01,\n",
       "       1.01031040e-01, 5.33623417e-01, 5.54405592e-01, 3.01062662e-01,\n",
       "       4.97722779e-01, 5.13332109e-01, 2.55921713e-01, 6.07387804e-01,\n",
       "       2.69163535e-02, 4.22905373e-01, 6.66211837e-01, 7.72106061e-01,\n",
       "       1.18768797e-01, 9.32659120e-01, 4.57647318e-03, 1.65316300e-01,\n",
       "       5.22153064e-01, 7.17045220e-01, 7.65145981e-01, 9.72180738e-01,\n",
       "       8.29081890e-01, 1.89818223e-01, 1.89157610e-02, 7.17667487e-01,\n",
       "       2.53971259e-01, 4.72065900e-01, 4.29993570e-02, 8.28437471e-02,\n",
       "       3.31857659e-01, 1.67873635e-01, 9.23677473e-03, 2.87524437e-01,\n",
       "       5.73252833e-01, 8.79967991e-01, 7.22497597e-01, 4.65817620e-01,\n",
       "       9.13888091e-01, 4.29401719e-01, 9.56497678e-01, 6.59268159e-01,\n",
       "       5.73097630e-01, 9.28246916e-01, 9.82459236e-01, 2.96730324e-01,\n",
       "       5.38974206e-01, 9.08769738e-01, 1.77091275e-01, 1.75978707e-01,\n",
       "       2.99663192e-01, 1.00035609e-01, 3.22901471e-01, 1.80759272e-01,\n",
       "       9.31019512e-01, 1.75387002e-01, 5.97808143e-01, 1.41542521e-01,\n",
       "       7.64523659e-01, 9.38480390e-01, 9.82318314e-01, 4.78315668e-01,\n",
       "       2.00383803e-01, 8.55657551e-01, 8.76123606e-01, 4.81438511e-01,\n",
       "       5.76944327e-02, 1.52139245e-01, 5.43692310e-01, 8.48912318e-01,\n",
       "       2.95112632e-01, 4.87319204e-01, 1.93285684e-01, 3.72279541e-01,\n",
       "       2.44328201e-01, 5.35897555e-01, 9.50849622e-01, 3.59403677e-01,\n",
       "       4.67302010e-01, 4.19527736e-01, 3.49756287e-01, 4.58497420e-01,\n",
       "       2.56181809e-01, 8.62689204e-01, 3.60741558e-01, 7.18233020e-01,\n",
       "       9.61628645e-02, 9.38401502e-01, 9.48633649e-01, 6.17284909e-02,\n",
       "       9.31526355e-01, 1.02719402e-01, 8.57088540e-01, 2.48751229e-01,\n",
       "       9.54591041e-01, 1.63815587e-01, 4.89848421e-01, 5.00083458e-01,\n",
       "       4.24763934e-02, 9.58167452e-01, 4.15484873e-01, 7.90173503e-01,\n",
       "       8.61175272e-02, 3.88726019e-01, 6.24299280e-01, 1.85016157e-01,\n",
       "       5.53743636e-01, 8.08189044e-01, 1.20801448e-02, 4.02872977e-01,\n",
       "       6.89941435e-01, 8.33836730e-01, 4.41434424e-01, 8.35806645e-01,\n",
       "       6.83227480e-01, 3.40946751e-01, 9.21827530e-02, 4.02359616e-01,\n",
       "       6.37851714e-01, 9.81577030e-01, 2.87444267e-01, 2.75634200e-01,\n",
       "       2.37431136e-01, 4.08119837e-01, 8.72187930e-01, 3.75656594e-01,\n",
       "       9.58594943e-01, 3.51858960e-02, 9.68812568e-01, 8.99006877e-01,\n",
       "       3.03975947e-01, 9.84538165e-01, 8.74209272e-01, 1.99894156e-01,\n",
       "       5.84419202e-01, 3.61199009e-01, 7.26147413e-01, 1.13690684e-02,\n",
       "       7.50359104e-01, 2.99582990e-01, 9.03042422e-01, 1.94046758e-02,\n",
       "       4.41971251e-01, 4.85800172e-01, 8.38379447e-01, 5.52882228e-01,\n",
       "       2.67434219e-01, 7.14650016e-01, 9.47949407e-02, 3.89353806e-01,\n",
       "       1.37374942e-02, 4.63274091e-01, 6.61808624e-02, 3.07740848e-04,\n",
       "       6.45517782e-01, 9.40624638e-01, 4.86648560e-01, 9.42309586e-01,\n",
       "       8.26269292e-01, 3.43306760e-01, 9.87414569e-01, 9.25968476e-01,\n",
       "       3.37078916e-03, 2.44022200e-01, 9.01665703e-03, 8.46800497e-01,\n",
       "       9.65740727e-01, 9.87108330e-01, 2.64431867e-01, 9.65011385e-01])"
      ]
     },
     "execution_count": 42,
     "metadata": {},
     "output_type": "execute_result"
    }
   ],
   "source": [
    "print(predictwise.iloc[5])\n",
    "sims[5,:]"
   ]
  },
  {
   "cell_type": "markdown",
   "metadata": {},
   "source": [
    "With an Obama probability of about 0.8, This means that if I threw down random numbers between 0 and 1 **uniformly**, about 80% should be below 0.8. So we can pick the simulations in which Obama wins Colorado by seeing in how many of the simulations the random number thrown is less than 0.8"
   ]
  },
  {
   "cell_type": "code",
   "execution_count": 43,
   "metadata": {},
   "outputs": [
    {
     "data": {
      "text/plain": [
       "array([False,  True,  True,  True,  True,  True,  True,  True,  True,\n",
       "       False,  True,  True,  True,  True,  True,  True,  True,  True,\n",
       "        True, False,  True,  True,  True,  True,  True, False,  True,\n",
       "        True,  True, False, False,  True,  True, False,  True,  True,\n",
       "        True, False,  True,  True, False,  True, False, False, False,\n",
       "        True, False,  True,  True,  True,  True,  True,  True,  True,\n",
       "        True,  True, False,  True, False,  True,  True,  True, False,\n",
       "        True, False, False,  True,  True,  True, False,  True,  True,\n",
       "        True,  True,  True,  True,  True,  True,  True,  True, False,\n",
       "        True,  True,  True,  True,  True,  True,  True,  True,  True,\n",
       "        True,  True,  True, False,  True,  True,  True, False,  True,\n",
       "        True,  True,  True,  True,  True, False,  True,  True, False,\n",
       "        True,  True,  True,  True,  True,  True,  True, False,  True,\n",
       "        True,  True,  True,  True, False,  True,  True,  True,  True,\n",
       "        True,  True,  True,  True,  True,  True,  True,  True, False,\n",
       "        True,  True,  True,  True,  True,  True,  True, False,  True,\n",
       "        True,  True,  True,  True,  True,  True, False,  True,  True,\n",
       "        True,  True,  True,  True,  True,  True, False,  True,  True,\n",
       "        True,  True,  True,  True, False,  True,  True, False, False,\n",
       "        True,  True,  True,  True,  True,  True,  True,  True,  True,\n",
       "        True,  True,  True,  True,  True,  True,  True,  True,  True,\n",
       "        True,  True,  True,  True,  True,  True,  True,  True,  True,\n",
       "       False,  True, False,  True,  True,  True,  True,  True,  True,\n",
       "        True, False, False,  True,  True,  True,  True,  True,  True,\n",
       "        True,  True, False,  True,  True,  True,  True, False,  True,\n",
       "        True,  True,  True,  True,  True, False,  True,  True, False,\n",
       "        True,  True,  True,  True, False,  True,  True, False,  True,\n",
       "        True,  True, False,  True,  True,  True, False, False,  True,\n",
       "        True,  True, False,  True,  True,  True,  True,  True, False,\n",
       "        True, False,  True,  True,  True, False,  True, False, False,\n",
       "        True,  True,  True,  True,  True, False,  True,  True,  True,\n",
       "        True,  True,  True,  True, False,  True,  True,  True,  True,\n",
       "        True,  True, False,  True,  True,  True,  True,  True,  True,\n",
       "        True,  True, False,  True, False,  True,  True,  True,  True,\n",
       "        True,  True,  True,  True,  True,  True,  True,  True,  True,\n",
       "        True,  True, False, False, False,  True,  True,  True,  True,\n",
       "        True, False,  True,  True, False,  True,  True,  True, False,\n",
       "        True,  True, False,  True,  True,  True,  True, False,  True,\n",
       "        True,  True,  True,  True,  True,  True,  True,  True,  True,\n",
       "        True,  True,  True,  True,  True,  True,  True,  True,  True,\n",
       "        True, False,  True,  True,  True,  True,  True,  True,  True,\n",
       "        True,  True, False,  True,  True,  True,  True,  True,  True,\n",
       "        True,  True,  True,  True, False,  True, False,  True,  True,\n",
       "        True, False,  True,  True,  True,  True,  True, False, False,\n",
       "       False,  True,  True,  True, False,  True,  True,  True,  True,\n",
       "        True,  True,  True,  True, False,  True,  True,  True,  True,\n",
       "        True,  True,  True,  True,  True,  True, False, False,  True,\n",
       "        True,  True,  True,  True, False, False,  True,  True,  True,\n",
       "       False,  True,  True,  True,  True,  True, False,  True,  True,\n",
       "        True,  True,  True,  True,  True,  True, False,  True,  True,\n",
       "        True,  True, False,  True,  True, False,  True,  True,  True,\n",
       "        True, False, False,  True,  True, False, False,  True,  True,\n",
       "        True, False,  True,  True,  True, False,  True,  True,  True,\n",
       "        True,  True,  True,  True,  True, False,  True,  True,  True,\n",
       "       False, False,  True,  True,  True,  True,  True,  True,  True,\n",
       "       False, False,  True, False,  True,  True, False,  True,  True,\n",
       "       False, False,  True,  True,  True,  True,  True,  True,  True,\n",
       "        True,  True,  True,  True,  True,  True,  True,  True,  True,\n",
       "        True,  True,  True,  True, False,  True, False,  True,  True,\n",
       "        True,  True,  True,  True, False,  True,  True, False,  True,\n",
       "        True, False,  True, False,  True,  True,  True, False, False,\n",
       "       False,  True,  True,  True,  True,  True,  True,  True, False,\n",
       "        True, False,  True,  True,  True,  True,  True, False,  True,\n",
       "        True,  True,  True,  True,  True,  True,  True,  True,  True,\n",
       "        True,  True,  True,  True,  True,  True,  True,  True,  True,\n",
       "        True,  True,  True,  True,  True,  True, False,  True,  True,\n",
       "        True,  True,  True,  True,  True, False,  True,  True,  True,\n",
       "        True,  True,  True, False, False,  True,  True,  True,  True,\n",
       "        True, False, False,  True,  True,  True,  True,  True,  True,\n",
       "        True,  True,  True,  True,  True, False,  True,  True,  True,\n",
       "        True, False,  True,  True,  True, False,  True,  True, False,\n",
       "        True,  True,  True,  True, False,  True,  True,  True,  True,\n",
       "       False,  True,  True, False,  True,  True,  True, False, False,\n",
       "        True,  True,  True,  True, False,  True, False,  True,  True,\n",
       "        True,  True,  True,  True, False, False,  True,  True,  True,\n",
       "       False,  True,  True,  True,  True,  True,  True,  True,  True,\n",
       "        True,  True,  True, False, False,  True, False, False,  True,\n",
       "       False,  True,  True,  True,  True, False,  True,  True,  True,\n",
       "        True,  True, False,  True,  True, False,  True,  True,  True,\n",
       "        True,  True, False,  True,  True,  True, False, False,  True,\n",
       "        True,  True,  True,  True,  True,  True,  True,  True,  True,\n",
       "        True,  True,  True,  True,  True, False,  True,  True,  True,\n",
       "       False,  True, False,  True,  True,  True,  True,  True,  True,\n",
       "       False,  True, False,  True, False,  True, False,  True,  True,\n",
       "        True, False, False, False,  True, False, False, False,  True,\n",
       "       False, False,  True,  True,  True,  True,  True,  True,  True,\n",
       "        True,  True,  True,  True, False,  True,  True,  True,  True,\n",
       "       False,  True,  True,  True,  True, False, False,  True,  True,\n",
       "        True, False, False, False, False,  True,  True,  True,  True,\n",
       "        True,  True,  True,  True,  True,  True,  True,  True,  True,\n",
       "        True,  True,  True,  True,  True,  True,  True,  True,  True,\n",
       "        True, False,  True, False,  True,  True, False,  True, False,\n",
       "        True,  True,  True,  True,  True,  True,  True,  True,  True,\n",
       "        True,  True,  True,  True,  True,  True,  True,  True, False,\n",
       "        True,  True,  True,  True,  True, False, False,  True,  True,\n",
       "        True,  True,  True,  True,  True,  True,  True,  True,  True,\n",
       "        True, False,  True,  True, False,  True, False,  True,  True,\n",
       "       False, False,  True,  True, False,  True,  True,  True,  True,\n",
       "        True,  True, False,  True,  True,  True,  True, False, False,\n",
       "        True,  True, False, False,  True,  True,  True,  True, False,\n",
       "        True,  True,  True,  True,  True,  True, False,  True,  True,\n",
       "        True,  True,  True,  True, False,  True,  True,  True, False,\n",
       "       False,  True, False,  True, False,  True, False,  True,  True,\n",
       "        True,  True, False,  True,  True,  True,  True,  True,  True,\n",
       "        True, False,  True,  True,  True, False,  True, False,  True,\n",
       "        True,  True,  True,  True, False,  True,  True,  True,  True,\n",
       "       False,  True, False,  True, False, False,  True, False, False,\n",
       "        True,  True,  True,  True,  True,  True,  True, False,  True,\n",
       "        True,  True, False,  True,  True,  True,  True,  True,  True,\n",
       "        True,  True,  True,  True, False,  True, False, False,  True,\n",
       "       False, False,  True,  True,  True, False, False, False,  True,\n",
       "       False])"
      ]
     },
     "execution_count": 43,
     "metadata": {},
     "output_type": "execute_result"
    }
   ],
   "source": [
    "sims[5,:] < predictwise.loc['Colorado'].Obama"
   ]
  },
  {
   "cell_type": "markdown",
   "metadata": {},
   "source": [
    "This is a boolean numpy array. Summing coerces the True to 1 and False to 0 and gives us the total number of simulations"
   ]
  },
  {
   "cell_type": "code",
   "execution_count": 44,
   "metadata": {},
   "outputs": [
    {
     "data": {
      "text/plain": [
       "787"
      ]
     },
     "execution_count": 44,
     "metadata": {},
     "output_type": "execute_result"
    }
   ],
   "source": [
    "np.sum(sims[5,:] < predictwise.loc['Colorado'].Obama)"
   ]
  },
  {
   "cell_type": "markdown",
   "metadata": {},
   "source": [
    "And the fraction from the mean:"
   ]
  },
  {
   "cell_type": "code",
   "execution_count": 45,
   "metadata": {},
   "outputs": [
    {
     "data": {
      "text/plain": [
       "0.787"
      ]
     },
     "execution_count": 45,
     "metadata": {},
     "output_type": "execute_result"
    }
   ],
   "source": [
    "np.mean(sims[5,:] < predictwise.loc['Colorado'].Obama)"
   ]
  },
  {
   "cell_type": "markdown",
   "metadata": {},
   "source": [
    "Lets do it for all the states now. 51 rows of 100 trues and Falses"
   ]
  },
  {
   "cell_type": "code",
   "execution_count": 46,
   "metadata": {},
   "outputs": [
    {
     "data": {
      "text/plain": [
       "array([[False, False, False, ..., False, False, False],\n",
       "       [False, False, False, ..., False, False, False],\n",
       "       [ True,  True, False, ..., False, False, False],\n",
       "       ...,\n",
       "       [False, False, False, ..., False, False, False],\n",
       "       [ True,  True,  True, ...,  True,  True,  True],\n",
       "       [False, False, False, ..., False, False, False]])"
      ]
     },
     "execution_count": 46,
     "metadata": {},
     "output_type": "execute_result"
    }
   ],
   "source": [
    "sims < predictwise.Obama.values.reshape(-1,1) # reshape for broadcasting"
   ]
  },
  {
   "cell_type": "markdown",
   "metadata": {},
   "source": [
    "Multiply by the number of electoral Votes in each state"
   ]
  },
  {
   "cell_type": "code",
   "execution_count": 47,
   "metadata": {},
   "outputs": [
    {
     "data": {
      "text/plain": [
       "array([[ 0,  0,  0, ...,  0,  0,  0],\n",
       "       [ 0,  0,  0, ...,  0,  0,  0],\n",
       "       [11, 11,  0, ...,  0,  0,  0],\n",
       "       ...,\n",
       "       [ 0,  0,  0, ...,  0,  0,  0],\n",
       "       [10, 10, 10, ..., 10, 10, 10],\n",
       "       [ 0,  0,  0, ...,  0,  0,  0]])"
      ]
     },
     "execution_count": 47,
     "metadata": {},
     "output_type": "execute_result"
    }
   ],
   "source": [
    "(sims < predictwise.Obama.values.reshape(-1,1))*predictwise.Votes.values.reshape(-1,1)"
   ]
  },
  {
   "cell_type": "markdown",
   "metadata": {},
   "source": [
    "If I sum the columns now, I get the total electoral votes in the country for Obama in each simulation"
   ]
  },
  {
   "cell_type": "code",
   "execution_count": 48,
   "metadata": {},
   "outputs": [
    {
     "data": {
      "text/plain": [
       "array([298, 353, 347, 304, 329, 337, 328, 319, 341, 289, 357, 343, 327,\n",
       "       347, 332, 293, 322, 301, 322, 307, 334, 332, 324, 347, 332, 339,\n",
       "       358, 342, 335, 297, 317, 322, 342, 310, 332, 342, 341, 323, 332,\n",
       "       290, 288, 314, 316, 320, 299, 343, 295, 354, 341, 332, 319, 308,\n",
       "       299, 303, 347, 312, 338, 319, 317, 335, 328, 352, 330, 347, 323,\n",
       "       294, 293, 347, 319, 307, 384, 354, 357, 327, 361, 341, 334, 265,\n",
       "       332, 301, 305, 331, 316, 328, 332, 334, 295, 303, 326, 329, 347,\n",
       "       332, 318, 323, 303, 332, 341, 310, 332, 303, 347, 318, 341, 317,\n",
       "       323, 320, 341, 317, 329, 335, 332, 322, 301, 296, 316, 327, 332,\n",
       "       329, 300, 318, 299, 319, 297, 341, 326, 307, 299, 322, 332, 299,\n",
       "       308, 358, 326, 332, 305, 332, 281, 329, 342, 332, 332, 332, 317,\n",
       "       268, 334, 328, 331, 347, 361, 308, 319, 303, 347, 326, 314, 314,\n",
       "       343, 347, 344, 338, 343, 347, 347, 328, 284, 322, 328, 347, 334,\n",
       "       328, 323, 319, 303, 303, 303, 332, 314, 354, 320, 318, 309, 332,\n",
       "       330, 299, 341, 309, 322, 335, 303, 318, 343, 339, 318, 312, 326,\n",
       "       328, 284, 303, 309, 323, 332, 303, 334, 329, 303, 323, 293, 314,\n",
       "       352, 317, 340, 314, 319, 332, 332, 297, 308, 306, 337, 337, 332,\n",
       "       368, 326, 307, 332, 312, 308, 328, 319, 319, 286, 343, 352, 323,\n",
       "       332, 330, 312, 319, 281, 303, 347, 359, 347, 326, 332, 313, 290,\n",
       "       328, 341, 338, 312, 339, 308, 332, 307, 309, 316, 272, 312, 332,\n",
       "       323, 303, 310, 334, 328, 335, 334, 322, 334, 294, 334, 303, 332,\n",
       "       297, 321, 323, 330, 303, 332, 310, 282, 334, 332, 338, 322, 303,\n",
       "       319, 322, 298, 337, 338, 340, 316, 332, 341, 322, 319, 339, 319,\n",
       "       276, 322, 323, 290, 322, 334, 312, 329, 297, 304, 326, 332, 352,\n",
       "       332, 332, 332, 274, 314, 322, 301, 334, 346, 298, 347, 326, 326,\n",
       "       305, 343, 326, 323, 319, 332, 313, 286, 334, 318, 301, 320, 341,\n",
       "       335, 329, 300, 332, 308, 316, 302, 297, 332, 347, 332, 328, 296,\n",
       "       332, 330, 334, 303, 301, 310, 344, 358, 341, 290, 323, 336, 330,\n",
       "       347, 343, 303, 343, 305, 332, 347, 315, 293, 314, 341, 319, 303,\n",
       "       300, 330, 308, 329, 342, 305, 335, 320, 332, 309, 303, 300, 344,\n",
       "       319, 325, 308, 293, 342, 323, 310, 318, 310, 318, 299, 332, 286,\n",
       "       318, 335, 335, 332, 307, 307, 281, 297, 286, 285, 332, 303, 303,\n",
       "       322, 357, 346, 338, 285, 323, 280, 326, 347, 329, 328, 294, 294,\n",
       "       358, 286, 332, 305, 335, 328, 326, 283, 347, 314, 303, 332, 332,\n",
       "       347, 299, 319, 331, 306, 332, 326, 294, 299, 358, 320, 347, 347,\n",
       "       313, 332, 361, 337, 297, 308, 323, 299, 322, 328, 328, 315, 345,\n",
       "       341, 317, 320, 327, 352, 313, 334, 299, 326, 298, 327, 332, 301,\n",
       "       326, 299, 319, 318, 285, 323, 276, 345, 314, 329, 334, 347, 319,\n",
       "       312, 332, 300, 315, 307, 300, 297, 338, 313, 329, 318, 294, 348,\n",
       "       332, 297, 293, 319, 303, 333, 316, 316, 318, 329, 289, 352, 347,\n",
       "       335, 323, 337, 297, 303, 347, 323, 303, 316, 333, 318, 325, 303,\n",
       "       301, 332, 323, 328, 332, 334, 299, 334, 288, 286, 263, 318, 319,\n",
       "       294, 309, 282, 313, 316, 322, 316, 334, 347, 332, 319, 304, 321,\n",
       "       328, 328, 320, 342, 332, 282, 317, 265, 307, 308, 332, 319, 357,\n",
       "       274, 337, 334, 332, 341, 303, 328, 317, 332, 303, 316, 319, 322,\n",
       "       297, 325, 332, 343, 318, 332, 310, 343, 332, 321, 316, 285, 326,\n",
       "       328, 323, 314, 297, 332, 305, 325, 318, 274, 338, 303, 332, 332,\n",
       "       319, 332, 338, 275, 358, 319, 328, 329, 325, 312, 299, 303, 343,\n",
       "       310, 332, 325, 297, 316, 296, 341, 296, 303, 328, 332, 305, 274,\n",
       "       297, 333, 347, 332, 341, 332, 323, 350, 323, 329, 337, 348, 325,\n",
       "       319, 323, 297, 332, 269, 300, 318, 316, 306, 337, 290, 320, 319,\n",
       "       319, 347, 314, 347, 290, 330, 350, 300, 338, 322, 300, 325, 332,\n",
       "       351, 310, 332, 328, 343, 303, 332, 347, 342, 319, 332, 309, 300,\n",
       "       329, 332, 305, 332, 294, 303, 332, 318, 283, 338, 326, 347, 336,\n",
       "       330, 340, 323, 332, 314, 313, 319, 301, 340, 296, 326, 338, 314,\n",
       "       334, 350, 295, 292, 332, 328, 332, 332, 327, 279, 318, 347, 300,\n",
       "       290, 332, 317, 344, 334, 350, 317, 326, 330, 332, 288, 303, 299,\n",
       "       290, 332, 326, 324, 303, 319, 320, 322, 335, 353, 302, 334, 309,\n",
       "       347, 321, 332, 313, 294, 294, 334, 310, 323, 343, 313, 323, 294,\n",
       "       326, 303, 329, 307, 281, 343, 332, 285, 341, 347, 325, 323, 279,\n",
       "       332, 286, 341, 294, 295, 294, 314, 319, 251, 316, 347, 303, 297,\n",
       "       305, 303, 323, 317, 308, 297, 328, 343, 337, 327, 350, 325, 319,\n",
       "       299, 297, 308, 319, 326, 332, 314, 326, 318, 305, 285, 325, 287,\n",
       "       318, 323, 332, 309, 343, 303, 322, 328, 306, 332, 337, 326, 319,\n",
       "       332, 312, 305, 307, 332, 332, 320, 299, 319, 322, 332, 334, 314,\n",
       "       323, 326, 324, 327, 319, 323, 294, 334, 337, 328, 305, 285, 314,\n",
       "       308, 318, 319, 335, 330, 319, 310, 307, 332, 303, 275, 291, 294,\n",
       "       353, 332, 294, 255, 354, 297, 317, 290, 319, 287, 290, 347, 333,\n",
       "       336, 332, 354, 314, 341, 319, 313, 343, 296, 329, 261, 323, 312,\n",
       "       361, 326, 349, 326, 341, 316, 318, 319, 291, 310, 335, 318, 326,\n",
       "       341, 337, 326, 294, 332, 328, 342, 294, 319, 315, 338, 322, 338,\n",
       "       300, 320, 326, 332, 328, 319, 317, 369, 308, 328, 290, 279, 357,\n",
       "       312, 294, 327, 327, 303, 328, 322, 320, 297, 322, 326, 332, 347,\n",
       "       323, 309, 328, 347, 314, 305, 299, 341, 326, 325, 307, 342, 323,\n",
       "       313, 322, 303, 326, 297, 332, 345, 314, 323, 357, 313, 316, 280,\n",
       "       328, 319, 332, 314, 316, 337, 288, 344, 332, 347, 323, 337, 317,\n",
       "       303, 347, 304, 294, 337, 319, 306, 323, 309, 338, 346, 317])"
      ]
     },
     "execution_count": 48,
     "metadata": {},
     "output_type": "execute_result"
    }
   ],
   "source": [
    "np.sum((sims < predictwise.Obama.values.reshape(-1,1))*predictwise.Votes.values.reshape(-1,1), axis=0)"
   ]
  },
  {
   "cell_type": "markdown",
   "metadata": {},
   "source": [
    "This is how `simulate_election` works.\n",
    "\n",
    "The following code takes the necessary probabilities for the Predictwise data, and runs 10000 simulations. If you think of this in terms of our coins, think of it as having 51 biased coins, one for each state, and tossing them 10,000 times each.\n",
    "\n",
    "We use the results to compute the number of simulations, according to this predictive model, that Obama wins the election (i.e., the probability that he receives 269 or more electoral college votes)"
   ]
  },
  {
   "cell_type": "code",
   "execution_count": 49,
   "metadata": {},
   "outputs": [
    {
     "name": "stdout",
     "output_type": "stream",
     "text": [
      "<class 'numpy.ndarray'>\n"
     ]
    },
    {
     "data": {
      "text/plain": [
       "9961"
      ]
     },
     "execution_count": 49,
     "metadata": {},
     "output_type": "execute_result"
    }
   ],
   "source": [
    "result = simulate_election(predictwise, 10000)\n",
    "print(type(result))\n",
    "np.sum(result >= 269)"
   ]
  },
  {
   "cell_type": "markdown",
   "metadata": {},
   "source": [
    "There are roughly only 50 simulations in which Romney wins the election!\n",
    "\n",
    "#### Displaying the prediction\n",
    "\n",
    "Now, lets visualize the simulation. We will build a histogram from the result of `simulate_election`. We will **normalize** the histogram by dividing the frequency of a vote tally by the number of simulations. We'll overplot the \"victory threshold\" of 269 votes as a vertical black line and the result (Obama winning 332 votes) as a vertical red line.\n",
    "\n",
    "We also compute the number of votes at the 5th and 95th quantiles, which we call the spread, and display it (this is an estimate of the outcome's uncertainty). By 5th quantile we mean that if we ordered the number of votes Obama gets in each simulation in increasing order, the 5th quantile is the number below which 5\\% of the simulations lie. \n",
    "\n",
    "We also display the probability of an Obama victory    \n",
    "    "
   ]
  },
  {
   "cell_type": "code",
   "execution_count": 50,
   "metadata": {},
   "outputs": [],
   "source": [
    "def plot_simulation(simulation):    \n",
    "    plt.hist(simulation, bins=np.arange(200, 538, 1), \n",
    "             label='simulations', align='left', normed=True)\n",
    "    plt.axvline(332, 0, .5, color='r', label='Actual Outcome')\n",
    "    plt.axvline(269, 0, .5, color='k', label='Victory Threshold')\n",
    "    p05 = np.percentile(simulation, 5.)\n",
    "    p95 = np.percentile(simulation, 95.)\n",
    "    iq = int(p95 - p05)\n",
    "    pwin = ((simulation >= 269).mean() * 100)\n",
    "    plt.title(\"Chance of Obama Victory: %0.2f%%, Spread: %d votes\" % (pwin, iq))\n",
    "    plt.legend(frameon=False, loc='upper left')\n",
    "    plt.xlabel(\"Obama Electoral College Votes\")\n",
    "    plt.ylabel(\"Probability\")\n",
    "    sns.despine()"
   ]
  },
  {
   "cell_type": "code",
   "execution_count": 51,
   "metadata": {},
   "outputs": [
    {
     "name": "stderr",
     "output_type": "stream",
     "text": [
      "/srv/conda/envs/notebook/lib/python3.7/site-packages/matplotlib/axes/_axes.py:6521: MatplotlibDeprecationWarning: \n",
      "The 'normed' kwarg was deprecated in Matplotlib 2.1 and will be removed in 3.1. Use 'density' instead.\n",
      "  alternative=\"'density'\", removal=\"3.1\")\n"
     ]
    },
    {
     "data": {
      "image/png": "[encoded data removed]",
      "text/plain": [
       "<Figure size 432x288 with 1 Axes>"
      ]
     },
     "metadata": {
      "needs_background": "light"
     },
     "output_type": "display_data"
    }
   ],
   "source": [
    "with sns.plotting_context('poster'):\n",
    "    plot_simulation(result)"
   ]
  },
  {
   "cell_type": "markdown",
   "metadata": {},
   "source": [
    "The model created by combining the probabilities we obtained from Predictwise with the simulation of a biased coin flip corresponding to the win probability in each states leads us to obtain a histogram of election outcomes. We are plotting the probabilities of a prediction, so we call this distribution over outcomes the **predictive distribution**. Simulating from our model and plotting a histogram allows us to visualize this predictive distribution. In general, such a set of probabilities is called a **probability distribution** or **probability mass function**. "
   ]
  },
  {
   "cell_type": "markdown",
   "metadata": {},
   "source": [
    "### Evaluating and Validating our Prediction\n",
    "\n",
    "The point of creating a probabilistic predictive model is to simultaneously make a forecast and give an estimate of how certain we are about it. Let us **evaluate** our prediction to get a sense of how useful it is, and we **validate** the predictive model by comparing it to real data.\n",
    "\n",
    "However, in order to trust our prediction or our reported level of uncertainty, the model needs to be *correct*. We say a model is *correct* if it honestly accounts for all of the mechanisms of variation in the system we're forecasting. Another way of thinking about this is that the predictive distribution matches the true distribution of election outcomes when the information leading up to the election matches the information that we have now.\n",
    "\n",
    "In general a model is never entirely correct: it is just an approximation to the underlying natural phenomenon. However it might be correct enough to be useful: our simple model of a fair coin is one such example where we've substituted subtle notions of the weight distributions of a coin or trust in the US mint by a simple number, 0.5.\n",
    "\n",
    "#### Accuracy and precision\n",
    "\n",
    "Suppose that we believe the model is correct \"enough\". Under this assumption, we can evaluate our prediction by characterizing its **accuracy** and **precision**.\n",
    "\n",
    "Accuracy refers to the closeness of our predictions to the true result, while precision refers to the uncertainty about our predicted value. Thus, to evaluate the accuracy of our prediction, we can check to see whether the center of mass of our predictive distribution seems to match the true outcome.  So, based on the outcome we observed, the model seems accurate. To make a more rigorous statement about accuracy, we would want to have more replications (that is, more elections) to see whether the expectation of the predictive distribution consistently matches the true outcomes. \n",
    "\n",
    "To evaluate the **precision** of our prediction,  we look at the spread of the histogram, which is 60 votes, and relatively large. Because we are assuming the model is correct, we can interpret the spread of the histogram as a measure of the variability among the election outcomes that are consistent with the information we have. Whether the prediction is precise *enough* is a question of what you want to do with your prediction. For example, it is not if you want to be able to call the winner of a close election (say the candidates are separated by less than 30 votes), this prediction would not be precise enough to identify a winner with a lot of confidence. To handle this, we might wish to incorporate more information into the model to reduce the spread of likely election outcomes. \n",
    "\n",
    "On the other hand, what we are really trying to do is to see if Romney has any chance of winning by Obama not exceeding the 269 votes threshold. For this purpose the precision is good enough; the win threshold is way outside the spread!\n",
    "\n",
    "![m:](images/avp1.jpg)\n",
    "\n",
    "![m:accuracy vs precision](images/avp2.jpg)"
   ]
  }
 ],
 "metadata": {
  "celltoolbar": "Edit Metadata",
  "kernelspec": {
   "display_name": "Python 3",
   "language": "python",
   "name": "python3"
  },
  "language_info": {
   "codemirror_mode": {
    "name": "ipython",
    "version": 3
   },
   "file_extension": ".py",
   "mimetype": "text/x-python",
   "name": "python",
   "nbconvert_exporter": "python",
   "pygments_lexer": "ipython3",
   "version": "3.7.3"
  }
 },
 "nbformat": 4,
 "nbformat_minor": 2
}
